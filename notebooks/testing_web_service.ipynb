{
  "cells": [
    {
      "cell_type": "code",
      "source": [
        "import json\n",
        "import os\n",
        "import csv\n",
        "import numpy as np\n",
        "import pandas as pd\n",
        "import requests\n",
        "from azureml.core.webservice import Webservice\n",
        "from sklearn.metrics import f1_score, accuracy_score, confusion_matrix\n",
        "import sys\n",
        "import joblib\n",
        "from azureml.core import Datastore, Dataset, Run\n",
        "from azureml.core import Workspace, Datastore"
      ],
      "outputs": [],
      "execution_count": 83,
      "metadata": {
        "gather": {
          "logged": 1602847933810
        },
        "jupyter": {
          "outputs_hidden": true,
          "source_hidden": false
        },
        "nteract": {
          "transient": {
            "deleting": false
          }
        }
      }
    },
    {
      "cell_type": "code",
      "source": [
        "#Obtenemos los datos\n",
        "ws = Workspace.from_config()\n",
        "\n",
        "dataset = Dataset.get_by_name(ws, name='iris.csv')\n",
        "df = dataset.to_pandas_dataframe()\n",
        "df = df.sample(frac=0.2, replace=False, random_state=1)\n",
        "\n",
        "print(\"Tamaño de la muestra:\", len(df))\n",
        "df.head()"
      ],
      "outputs": [
        {
          "output_type": "stream",
          "name": "stdout",
          "text": [
            "Tamaño de la muestra: 30\n"
          ]
        },
        {
          "output_type": "execute_result",
          "execution_count": 84,
          "data": {
            "text/plain": "     SepalLengthCm  SepalWidthCm  PetalLengthCm  PetalWidthCm          Species\n14             5.8           4.0            1.2           0.2      Iris-setosa\n98             5.1           2.5            3.0           1.1  Iris-versicolor\n75             6.6           3.0            4.4           1.4  Iris-versicolor\n16             5.4           3.9            1.3           0.4      Iris-setosa\n131            7.9           3.8            6.4           2.0   Iris-virginica",
            "text/html": "<div>\n<style scoped>\n    .dataframe tbody tr th:only-of-type {\n        vertical-align: middle;\n    }\n\n    .dataframe tbody tr th {\n        vertical-align: top;\n    }\n\n    .dataframe thead th {\n        text-align: right;\n    }\n</style>\n<table border=\"1\" class=\"dataframe\">\n  <thead>\n    <tr style=\"text-align: right;\">\n      <th></th>\n      <th>SepalLengthCm</th>\n      <th>SepalWidthCm</th>\n      <th>PetalLengthCm</th>\n      <th>PetalWidthCm</th>\n      <th>Species</th>\n    </tr>\n  </thead>\n  <tbody>\n    <tr>\n      <th>14</th>\n      <td>5.8</td>\n      <td>4.0</td>\n      <td>1.2</td>\n      <td>0.2</td>\n      <td>Iris-setosa</td>\n    </tr>\n    <tr>\n      <th>98</th>\n      <td>5.1</td>\n      <td>2.5</td>\n      <td>3.0</td>\n      <td>1.1</td>\n      <td>Iris-versicolor</td>\n    </tr>\n    <tr>\n      <th>75</th>\n      <td>6.6</td>\n      <td>3.0</td>\n      <td>4.4</td>\n      <td>1.4</td>\n      <td>Iris-versicolor</td>\n    </tr>\n    <tr>\n      <th>16</th>\n      <td>5.4</td>\n      <td>3.9</td>\n      <td>1.3</td>\n      <td>0.4</td>\n      <td>Iris-setosa</td>\n    </tr>\n    <tr>\n      <th>131</th>\n      <td>7.9</td>\n      <td>3.8</td>\n      <td>6.4</td>\n      <td>2.0</td>\n      <td>Iris-virginica</td>\n    </tr>\n  </tbody>\n</table>\n</div>"
          },
          "metadata": {}
        }
      ],
      "execution_count": 84,
      "metadata": {
        "gather": {
          "logged": 1602847940422
        }
      }
    },
    {
      "cell_type": "code",
      "source": [
        "#Eliminamos la columna \"species\"\n",
        "x_valid = df.drop([\"Species\"],axis=1)\n",
        "x_valid.head()"
      ],
      "outputs": [
        {
          "output_type": "execute_result",
          "execution_count": 85,
          "data": {
            "text/plain": "     SepalLengthCm  SepalWidthCm  PetalLengthCm  PetalWidthCm\n14             5.8           4.0            1.2           0.2\n98             5.1           2.5            3.0           1.1\n75             6.6           3.0            4.4           1.4\n16             5.4           3.9            1.3           0.4\n131            7.9           3.8            6.4           2.0",
            "text/html": "<div>\n<style scoped>\n    .dataframe tbody tr th:only-of-type {\n        vertical-align: middle;\n    }\n\n    .dataframe tbody tr th {\n        vertical-align: top;\n    }\n\n    .dataframe thead th {\n        text-align: right;\n    }\n</style>\n<table border=\"1\" class=\"dataframe\">\n  <thead>\n    <tr style=\"text-align: right;\">\n      <th></th>\n      <th>SepalLengthCm</th>\n      <th>SepalWidthCm</th>\n      <th>PetalLengthCm</th>\n      <th>PetalWidthCm</th>\n    </tr>\n  </thead>\n  <tbody>\n    <tr>\n      <th>14</th>\n      <td>5.8</td>\n      <td>4.0</td>\n      <td>1.2</td>\n      <td>0.2</td>\n    </tr>\n    <tr>\n      <th>98</th>\n      <td>5.1</td>\n      <td>2.5</td>\n      <td>3.0</td>\n      <td>1.1</td>\n    </tr>\n    <tr>\n      <th>75</th>\n      <td>6.6</td>\n      <td>3.0</td>\n      <td>4.4</td>\n      <td>1.4</td>\n    </tr>\n    <tr>\n      <th>16</th>\n      <td>5.4</td>\n      <td>3.9</td>\n      <td>1.3</td>\n      <td>0.4</td>\n    </tr>\n    <tr>\n      <th>131</th>\n      <td>7.9</td>\n      <td>3.8</td>\n      <td>6.4</td>\n      <td>2.0</td>\n    </tr>\n  </tbody>\n</table>\n</div>"
          },
          "metadata": {}
        }
      ],
      "execution_count": 85,
      "metadata": {
        "gather": {
          "logged": 1602847951960
        }
      }
    },
    {
      "cell_type": "code",
      "source": [
        "#Pasamos la muestra de datos a formato json\n",
        "data = json.dumps({'data': x_valid.values.tolist()})\n",
        "print(data)"
      ],
      "outputs": [
        {
          "output_type": "stream",
          "name": "stdout",
          "text": [
            "{\"data\": [[5.8, 4.0, 1.2, 0.2], [5.1, 2.5, 3.0, 1.1], [6.6, 3.0, 4.4, 1.4], [5.4, 3.9, 1.3, 0.4], [7.9, 3.8, 6.4, 2.0], [6.3, 3.3, 4.7, 1.6], [6.9, 3.1, 5.1, 2.3], [5.1, 3.8, 1.9, 0.4], [4.7, 3.2, 1.6, 0.2], [6.9, 3.2, 5.7, 2.3], [5.6, 2.7, 4.2, 1.3], [5.4, 3.9, 1.7, 0.4], [7.1, 3.0, 5.9, 2.1], [6.4, 3.2, 4.5, 1.5], [6.0, 2.9, 4.5, 1.5], [4.4, 3.2, 1.3, 0.2], [5.8, 2.6, 4.0, 1.2], [5.6, 3.0, 4.5, 1.5], [5.4, 3.4, 1.5, 0.4], [5.0, 3.2, 1.2, 0.2], [5.5, 2.6, 4.4, 1.2], [5.4, 3.0, 4.5, 1.5], [6.7, 3.0, 5.0, 1.7], [5.0, 3.5, 1.3, 0.3], [7.2, 3.2, 6.0, 1.8], [5.7, 2.8, 4.1, 1.3], [5.5, 4.2, 1.4, 0.2], [5.1, 3.8, 1.5, 0.3], [6.1, 2.8, 4.7, 1.2], [6.3, 2.5, 5.0, 1.9]]}\n"
          ]
        }
      ],
      "execution_count": 86,
      "metadata": {
        "gather": {
          "logged": 1602847982185
        }
      }
    },
    {
      "cell_type": "code",
      "source": [
        "#URL para consumir el modelo\n",
        "URI = \"ACI_CONTAINER_SERVICE_URI\"\n",
        "headers = {'Content-Type': 'application/json'}\n",
        "\n",
        "response = requests.post(URI, data=data, headers=headers)\n",
        "                                                                \n",
        "assert response.status_code == 200"
      ],
      "outputs": [],
      "execution_count": 87,
      "metadata": {
        "gather": {
          "logged": 1602848025444
        }
      }
    },
    {
      "cell_type": "code",
      "source": [
        "y_pred = np.array(response.json())\n",
        "y_pred"
      ],
      "outputs": [
        {
          "output_type": "execute_result",
          "execution_count": 88,
          "data": {
            "text/plain": "array(['Iris-setosa', 'Iris-versicolor', 'Iris-versicolor', 'Iris-setosa',\n       'Iris-virginica', 'Iris-versicolor', 'Iris-virginica',\n       'Iris-setosa', 'Iris-setosa', 'Iris-virginica', 'Iris-versicolor',\n       'Iris-setosa', 'Iris-virginica', 'Iris-versicolor',\n       'Iris-versicolor', 'Iris-setosa', 'Iris-versicolor',\n       'Iris-versicolor', 'Iris-setosa', 'Iris-setosa', 'Iris-versicolor',\n       'Iris-versicolor', 'Iris-virginica', 'Iris-setosa',\n       'Iris-virginica', 'Iris-versicolor', 'Iris-setosa', 'Iris-setosa',\n       'Iris-versicolor', 'Iris-virginica'], dtype='<U15')"
          },
          "metadata": {}
        }
      ],
      "execution_count": 88,
      "metadata": {
        "gather": {
          "logged": 1602848042161
        }
      }
    },
    {
      "cell_type": "code",
      "source": [
        "#Seleccionamos la columna con las etiquetas\n",
        "y_valid = df[\"Species\"]\n",
        "y_valid.head()"
      ],
      "outputs": [
        {
          "output_type": "execute_result",
          "execution_count": 89,
          "data": {
            "text/plain": "14         Iris-setosa\n98     Iris-versicolor\n75     Iris-versicolor\n16         Iris-setosa\n131     Iris-virginica\nName: Species, dtype: object"
          },
          "metadata": {}
        }
      ],
      "execution_count": 89,
      "metadata": {
        "gather": {
          "logged": 1602848053298
        }
      }
    },
    {
      "cell_type": "code",
      "source": [
        "#Calculamos el porcentaje de precisión de nuestra muestra\n",
        "accuracy_score(y_valid, y_pred)"
      ],
      "outputs": [
        {
          "output_type": "execute_result",
          "execution_count": 90,
          "data": {
            "text/plain": "0.9666666666666667"
          },
          "metadata": {}
        }
      ],
      "execution_count": 90,
      "metadata": {
        "gather": {
          "logged": 1602848056093
        }
      }
    },
    {
      "cell_type": "code",
      "source": [
        "#Analizamos la matriz de confusión\n",
        "confusion_matrix(y_valid, y_pred, labels=[\"Iris-setosa\", \"Iris-versicolor\", \"Iris-virginica\"])"
      ],
      "outputs": [
        {
          "output_type": "execute_result",
          "execution_count": 91,
          "data": {
            "text/plain": "array([[11,  0,  0],\n       [ 0, 12,  1],\n       [ 0,  0,  6]])"
          },
          "metadata": {}
        }
      ],
      "execution_count": 91,
      "metadata": {
        "gather": {
          "logged": 1602848056368
        }
      }
    },
    {
      "cell_type": "code",
      "source": [],
      "outputs": [],
      "execution_count": null,
      "metadata": {
        "collapsed": true,
        "jupyter": {
          "source_hidden": false,
          "outputs_hidden": false
        },
        "nteract": {
          "transient": {
            "deleting": false
          }
        }
      }
    }
  ],
  "metadata": {
    "kernel_info": {
      "name": "python3"
    },
    "kernelspec": {
      "name": "python3",
      "language": "python",
      "display_name": "Python 3"
    },
    "language_info": {
      "name": "python",
      "version": "3.6.9",
      "mimetype": "text/x-python",
      "codemirror_mode": {
        "name": "ipython",
        "version": 3
      },
      "pygments_lexer": "ipython3",
      "nbconvert_exporter": "python",
      "file_extension": ".py"
    },
    "nteract": {
      "version": "nteract-front-end@1.0.0"
    }
  },
  "nbformat": 4,
  "nbformat_minor": 2
}